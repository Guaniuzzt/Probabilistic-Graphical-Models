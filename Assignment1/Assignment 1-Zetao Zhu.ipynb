{
 "cells": [
  {
   "cell_type": "markdown",
   "metadata": {},
   "source": [
    "Name: Zetao Zhu\n",
    "\n",
    "ID：ZXZ690\n"
   ]
  },
  {
   "cell_type": "markdown",
   "metadata": {},
   "source": [
    "## Problem descripition"
   ]
  },
  {
   "cell_type": "markdown",
   "metadata": {},
   "source": [
    "In my assignment, the problme is similar with coin flipping mentioned in slides. Two different color ball are put in a box, which is non-transparent. One kind of ball is black and the other is white. The experiment is that: take one ball from box one time and put back the ball. Thus, each taking the probability of taking black ball is θ and white one is (1-θ). The binomial distribution specifies the probability of the total number of black balls(y), out of n trials:"
   ]
  },
  {
   "cell_type": "markdown",
   "metadata": {},
   "source": [
    "Because the number of both black and white balls are uncertain, the hidden parameter is the probability of taking a blackθ. The goal of this experiment is to estimate the hidden parameter with the result of several trials."
   ]
  },
  {
   "cell_type": "markdown",
   "metadata": {},
   "source": [
    "# Data"
   ]
  },
  {
   "cell_type": "markdown",
   "metadata": {},
   "source": [
    "The result from every experiment is black(0), white(1). The probability of getting black is θ. Since there is only two kinds of color in box, the probability of white ball is (1-θ)."
   ]
  },
  {
   "cell_type": "code",
   "execution_count": 9,
   "metadata": {
    "collapsed": true
   },
   "outputs": [],
   "source": [
    "import matplotlib.pyplot as plt\n",
    "import numpy as np\n",
    "import math"
   ]
  },
  {
   "cell_type": "code",
   "execution_count": 11,
   "metadata": {},
   "outputs": [
    {
     "name": "stdout",
     "output_type": "stream",
     "text": [
      "[0 1 1 0 1 1 0 1 1 1 0 0 0 0 0 1 1 0 0 1]\n"
     ]
    }
   ],
   "source": [
    "# Generate random result\n",
    "def randomResult(n):\n",
    "    result = np.random.randint(0, 2, size=n)\n",
    "    return result\n",
    "\n",
    "print (randomResult(20))"
   ]
  },
  {
   "cell_type": "code",
   "execution_count": 36,
   "metadata": {
    "collapsed": true
   },
   "outputs": [],
   "source": [
    "#Factorial operator\n",
    "def fo(n,m):\n",
    "    f = math.factorial\n",
    "    return (f(n))//(f(m)*f(n-m))"
   ]
  },
  {
   "cell_type": "code",
   "execution_count": 21,
   "metadata": {
    "collapsed": true
   },
   "outputs": [],
   "source": [
    "#Likelihood\n",
    "def likelihood(theta, n):\n",
    "    sum_likelihood = [];\n",
    "    for i in range(1, n+1):\n",
    "        likelihood_i = fo(n,i) * (theta**i)*(1-theta)**(n-i)\n",
    "        sum_likelihood.append(likelihood_i)\n",
    "        \n",
    "    return sum_likelihood\n",
    "        "
   ]
  },
  {
   "cell_type": "code",
   "execution_count": 22,
   "metadata": {},
   "outputs": [
    {
     "name": "stdout",
     "output_type": "stream",
     "text": [
      "[0.003007286598217181, 0.01428461134153161, 0.04285383402459482, 0.09106439730226397, 0.14570303568362233, 0.18212879460452788, 0.18212879460452783, 0.14797964561617885, 0.09865309707745255, 0.054259203392598904, 0.02466327426936313, 0.009248727851011173, 0.0028457624156957447, 0.0007114406039239361, 0.0001422881207847872, 2.2232518872623e-05, 2.6155904556027052e-06, 2.179658713002254e-07, 1.1471887963169754e-08, 2.867971990792438e-10]\n"
     ]
    }
   ],
   "source": [
    "#test\n",
    "print (likelihood(1/3.0, 20))"
   ]
  },
  {
   "cell_type": "code",
   "execution_count": 23,
   "metadata": {
    "collapsed": true
   },
   "outputs": [],
   "source": [
    "#Draw BarChar\n",
    "\n",
    "def barChart(input):\n",
    "    x_input = [x for x in range(1,len(input)+1)]\n",
    "    plt.bar(x_input, input, 0.75, color=\"green\")\n",
    "    plt.xlabel('y')\n",
    "    plt.ylabel('likelihood')\n",
    "    plt.show()"
   ]
  },
  {
   "cell_type": "code",
   "execution_count": 44,
   "metadata": {},
   "outputs": [
    {
     "data": {
      "image/png": "[encoded data removed]",
      "text/plain": [
       "<matplotlib.figure.Figure at 0x2679213ddd8>"
      ]
     },
     "metadata": {},
     "output_type": "display_data"
    }
   ],
   "source": [
    "#test1 when \n",
    "\n",
    "input = likelihood(0.5, 10)\n",
    "barChart(input)"
   ]
  },
  {
   "cell_type": "code",
   "execution_count": 25,
   "metadata": {},
   "outputs": [
    {
     "data": {
      "image/png": "[encoded data removed]",
      "text/plain": [
       "<matplotlib.figure.Figure at 0x26791d4afd0>"
      ]
     },
     "metadata": {},
     "output_type": "display_data"
    }
   ],
   "source": [
    "#test2\n",
    "\n",
    "input = likelihood(0.6, 20)\n",
    "barChart(input)"
   ]
  },
  {
   "cell_type": "markdown",
   "metadata": {},
   "source": [
    "# Applying Bayes' Rule"
   ]
  },
  {
   "cell_type": "markdown",
   "metadata": {},
   "source": [
    "The goal of this experiment is to estimate θ by y and n. By applying Rayes' rule, we can get:<br>\n",
    "$$p(\\theta | y, n) = \\dfrac{p(y | \\theta, n)p(\\theta | n)}{p(y | n)}$$<br>\n",
    "The posterior is p($\\theta$ | y,n) <br>\n",
    "The likelihood is p(y | $\\theta$ | y,n) <br>\n",
    "The prior is p($\\theta$ | n) <br>"
   ]
  },
  {
   "cell_type": "markdown",
   "metadata": {},
   "source": [
    "We have calulate likehood above and  don't know how to calulate the prior. However, the value of prior would be a value between [0 1]. Thus, the posterior is proportional to likelihood. Besides, Bayes in his original paper in 1763 showed that: p(y|n) = 1 / n+1. So, we can calulate the value of posterior now. The function is shown below:<br>\n",
    " p($\\theta$ | y, n) = C$_y^n$ * $\\theta$$^y$ * (1-y)$^{n-y}$ * (1+n)"
   ]
  },
  {
   "cell_type": "code",
   "execution_count": 66,
   "metadata": {},
   "outputs": [],
   "source": [
    "# calculate posterior\n",
    "\n",
    "def calPosterior(y,n):\n",
    "    theta = [0,0.1,0.2,0.3,0.4,0.5,0.6,0.7,0.8,0.9,1]\n",
    "    result = []\n",
    "    for i in theta:\n",
    "        posterior_i = fo(n,y) * (i**y)*(1-i)**(n-y) * (n+1)\n",
    "        result.append(posterior_i)\n",
    "    plt.plot(theta, result,'-' , linewidth=2)\n",
    "    plt.show()        "
   ]
  },
  {
   "cell_type": "code",
   "execution_count": 50,
   "metadata": {},
   "outputs": [
    {
     "name": "stdout",
     "output_type": "stream",
     "text": [
      "28\n"
     ]
    },
    {
     "data": {
      "image/png": "[encoded data removed]",
      "text/plain": [
       "<matplotlib.figure.Figure at 0x267923411d0>"
      ]
     },
     "metadata": {},
     "output_type": "display_data"
    }
   ],
   "source": [
    "data = randomResult(50);\n",
    "y = np.count_nonzero(data == 1)\n",
    "print(y)\n",
    "calPosterior(y,50)\n"
   ]
  },
  {
   "cell_type": "markdown",
   "metadata": {},
   "source": [
    "When randomly put 50 black and white balls in box. y=28, n=50. From the chart the θ is 0.6, which approximately equals 28/50."
   ]
  },
  {
   "cell_type": "code",
   "execution_count": 55,
   "metadata": {},
   "outputs": [
    {
     "name": "stdout",
     "output_type": "stream",
     "text": [
      "54\n"
     ]
    },
    {
     "data": {
      "image/png": "[encoded data removed]",
      "text/plain": [
       "<matplotlib.figure.Figure at 0x2679341ed68>"
      ]
     },
     "metadata": {},
     "output_type": "display_data"
    }
   ],
   "source": [
    "data = randomResult(100);\n",
    "y = np.count_nonzero(data == 1)\n",
    "print(y)\n",
    "calPosterior(y,100)"
   ]
  },
  {
   "cell_type": "markdown",
   "metadata": {},
   "source": [
    "When randomly put 100 black and white balls in box. y=59, n=100. From the chart the θ is 0.55, which approximately equals 59/100. It is more precise than n=50."
   ]
  },
  {
   "cell_type": "code",
   "execution_count": 56,
   "metadata": {},
   "outputs": [
    {
     "name": "stdout",
     "output_type": "stream",
     "text": [
      "247\n"
     ]
    },
    {
     "data": {
      "image/png": "[encoded data removed]",
      "text/plain": [
       "<matplotlib.figure.Figure at 0x2679231a780>"
      ]
     },
     "metadata": {},
     "output_type": "display_data"
    }
   ],
   "source": [
    "data = randomResult(500);\n",
    "y = np.count_nonzero(data == 1)\n",
    "print(y)\n",
    "calPosterior(y,500)"
   ]
  },
  {
   "cell_type": "markdown",
   "metadata": {},
   "source": [
    "When n comes to 500, y = 248. From the chart the θ is 0.5, which approximately equals 247/500.This is a good estimate of θ."
   ]
  }
 ],
 "metadata": {
  "kernelspec": {
   "display_name": "Python 3",
   "language": "python",
   "name": "python3"
  },
  "language_info": {
   "codemirror_mode": {
    "name": "ipython",
    "version": 3
   },
   "file_extension": ".py",
   "mimetype": "text/x-python",
   "name": "python",
   "nbconvert_exporter": "python",
   "pygments_lexer": "ipython3",
   "version": "3.6.3"
  }
 },
 "nbformat": 4,
 "nbformat_minor": 2
}
